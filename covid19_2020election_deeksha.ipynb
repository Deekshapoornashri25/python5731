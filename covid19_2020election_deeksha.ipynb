{
  "nbformat": 4,
  "nbformat_minor": 0,
  "metadata": {
    "colab": {
      "name": "covid19 2020election_deeksha.ipynb",
      "provenance": [],
      "authorship_tag": "ABX9TyP/f8FEcjFDW83imJsfEiNs",
      "include_colab_link": true
    },
    "kernelspec": {
      "name": "python3",
      "display_name": "Python 3"
    }
  },
  "cells": [
    {
      "cell_type": "markdown",
      "metadata": {
        "id": "view-in-github",
        "colab_type": "text"
      },
      "source": [
        "<a href=\"https://colab.research.google.com/github/Deekshapoornashri25/python5731/blob/master/covid19_2020election_deeksha.ipynb\" target=\"_parent\"><img src=\"https://colab.research.google.com/assets/colab-badge.svg\" alt=\"Open In Colab\"/></a>"
      ]
    },
    {
      "cell_type": "code",
      "metadata": {
        "id": "-q2Sks_L5Jcw",
        "outputId": "5df2fa26-64f6-4189-f479-79a5ded43686",
        "colab": {
          "base_uri": "https://localhost:8080/",
          "height": 419
        }
      },
      "source": [
        "import tweepy as tw\n",
        "import pandas as pd\n",
        "\n",
        "consumer_key = 'qWaI6kizU7SAcRNc6EnnoNChq'\n",
        "consumer_secret = 'xumE7NgIZMiLCUXFeEl0pr3zhsuqdLvOPB0tG94HBQ8PgP2vsK'\n",
        "access_token = '2747565082-8g1OYC9aFI4NxRInAV5ArxV1te4V6alDLHlQuNn'\n",
        "access_token_secret = 'rDMmFApw3H5vL5KqVRxwRKdmJCkRdmrqjG8CCfmVroNKV'\n",
        "\n",
        "auth = tw.OAuthHandler(consumer_key, consumer_secret)\n",
        "auth.set_access_token(access_token, access_token_secret)\n",
        "api = tw.API(auth,wait_on_rate_limit=True)\n",
        "\n",
        "time=[]\n",
        "text=[]\n",
        "\n",
        "\n",
        "for tweet in tw.Cursor(api.search,q=\"Covid19   2020 election\",lang=\"en\",since=\"2020-09-01\",until=\"2020-10-30\").items(5000):\n",
        "  time.append(tweet.created_at)\n",
        "  text.append(tweet.text)\n",
        "covid_election_tweets=pd.DataFrame({'tweets':text,'created':time})\n",
        "covid_election_tweets.to_csv('covid_election.csv')\n",
        "covid_election_tweets"
      ],
      "execution_count": 1,
      "outputs": [
        {
          "output_type": "execute_result",
          "data": {
            "text/html": [
              "<div>\n",
              "<style scoped>\n",
              "    .dataframe tbody tr th:only-of-type {\n",
              "        vertical-align: middle;\n",
              "    }\n",
              "\n",
              "    .dataframe tbody tr th {\n",
              "        vertical-align: top;\n",
              "    }\n",
              "\n",
              "    .dataframe thead th {\n",
              "        text-align: right;\n",
              "    }\n",
              "</style>\n",
              "<table border=\"1\" class=\"dataframe\">\n",
              "  <thead>\n",
              "    <tr style=\"text-align: right;\">\n",
              "      <th></th>\n",
              "      <th>tweets</th>\n",
              "      <th>created</th>\n",
              "    </tr>\n",
              "  </thead>\n",
              "  <tbody>\n",
              "    <tr>\n",
              "      <th>0</th>\n",
              "      <td>RT @ABCFactCheck: Less than week from the US e...</td>\n",
              "      <td>2020-10-29 23:58:21</td>\n",
              "    </tr>\n",
              "    <tr>\n",
              "      <th>1</th>\n",
              "      <td>Sorry @JoeBiden, #AlwaysWoreAMask, and still g...</td>\n",
              "      <td>2020-10-29 23:51:56</td>\n",
              "    </tr>\n",
              "    <tr>\n",
              "      <th>2</th>\n",
              "      <td>RT @RVAwonk: Late this evening, Brett Kavanaug...</td>\n",
              "      <td>2020-10-29 23:37:56</td>\n",
              "    </tr>\n",
              "    <tr>\n",
              "      <th>3</th>\n",
              "      <td>RT @RVAwonk: Late this evening, Brett Kavanaug...</td>\n",
              "      <td>2020-10-29 23:37:07</td>\n",
              "    </tr>\n",
              "    <tr>\n",
              "      <th>4</th>\n",
              "      <td>WATCH LIVE from 9.45am: Queensland Premier @An...</td>\n",
              "      <td>2020-10-29 23:35:00</td>\n",
              "    </tr>\n",
              "    <tr>\n",
              "      <th>...</th>\n",
              "      <td>...</td>\n",
              "      <td>...</td>\n",
              "    </tr>\n",
              "    <tr>\n",
              "      <th>2006</th>\n",
              "      <td>RT @ConnieMunde: @realDonaldTrump @FoxNews It'...</td>\n",
              "      <td>2020-10-27 19:27:54</td>\n",
              "    </tr>\n",
              "    <tr>\n",
              "      <th>2007</th>\n",
              "      <td>@realDonaldTrump @FoxNews It's one week before...</td>\n",
              "      <td>2020-10-27 19:25:01</td>\n",
              "    </tr>\n",
              "    <tr>\n",
              "      <th>2008</th>\n",
              "      <td>'I was born for that': #HillaryClinton says sh...</td>\n",
              "      <td>2020-10-27 19:24:44</td>\n",
              "    </tr>\n",
              "    <tr>\n",
              "      <th>2009</th>\n",
              "      <td>RT @DrDenaGrayson: 🚨BREAKING: #Minnesota repor...</td>\n",
              "      <td>2020-10-27 19:22:33</td>\n",
              "    </tr>\n",
              "    <tr>\n",
              "      <th>2010</th>\n",
              "      <td>RT @JimAndrews518: 2020 election closing argum...</td>\n",
              "      <td>2020-10-27 19:16:10</td>\n",
              "    </tr>\n",
              "  </tbody>\n",
              "</table>\n",
              "<p>2011 rows × 2 columns</p>\n",
              "</div>"
            ],
            "text/plain": [
              "                                                 tweets             created\n",
              "0     RT @ABCFactCheck: Less than week from the US e... 2020-10-29 23:58:21\n",
              "1     Sorry @JoeBiden, #AlwaysWoreAMask, and still g... 2020-10-29 23:51:56\n",
              "2     RT @RVAwonk: Late this evening, Brett Kavanaug... 2020-10-29 23:37:56\n",
              "3     RT @RVAwonk: Late this evening, Brett Kavanaug... 2020-10-29 23:37:07\n",
              "4     WATCH LIVE from 9.45am: Queensland Premier @An... 2020-10-29 23:35:00\n",
              "...                                                 ...                 ...\n",
              "2006  RT @ConnieMunde: @realDonaldTrump @FoxNews It'... 2020-10-27 19:27:54\n",
              "2007  @realDonaldTrump @FoxNews It's one week before... 2020-10-27 19:25:01\n",
              "2008  'I was born for that': #HillaryClinton says sh... 2020-10-27 19:24:44\n",
              "2009  RT @DrDenaGrayson: 🚨BREAKING: #Minnesota repor... 2020-10-27 19:22:33\n",
              "2010  RT @JimAndrews518: 2020 election closing argum... 2020-10-27 19:16:10\n",
              "\n",
              "[2011 rows x 2 columns]"
            ]
          },
          "metadata": {
            "tags": []
          },
          "execution_count": 1
        }
      ]
    }
  ]
}