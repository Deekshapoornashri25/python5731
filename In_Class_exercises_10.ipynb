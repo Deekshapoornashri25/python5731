{
  "nbformat": 4,
  "nbformat_minor": 0,
  "metadata": {
    "kernelspec": {
      "display_name": "Python 3",
      "language": "python",
      "name": "python3"
    },
    "language_info": {
      "codemirror_mode": {
        "name": "ipython",
        "version": 3
      },
      "file_extension": ".py",
      "mimetype": "text/x-python",
      "name": "python",
      "nbconvert_exporter": "python",
      "pygments_lexer": "ipython3",
      "version": "3.7.1"
    },
    "colab": {
      "name": "In_Class_exercises-10.ipynb",
      "provenance": [],
      "toc_visible": true,
      "include_colab_link": true
    }
  },
  "cells": [
    {
      "cell_type": "markdown",
      "metadata": {
        "id": "view-in-github",
        "colab_type": "text"
      },
      "source": [
        "<a href=\"https://colab.research.google.com/github/Deekshapoornashri25/python5731/blob/master/In_Class_exercises_10.ipynb\" target=\"_parent\"><img src=\"https://colab.research.google.com/assets/colab-badge.svg\" alt=\"Open In Colab\"/></a>"
      ]
    },
    {
      "cell_type": "markdown",
      "metadata": {
        "id": "O2qLtIGwR8z4"
      },
      "source": [
        "# In class exercise 10"
      ]
    },
    {
      "cell_type": "markdown",
      "metadata": {
        "id": "8-rRjp4aR8z4"
      },
      "source": [
        "The purpose of the exercise is to practice different machine learning algorithms for text clustering\n",
        "Please downlad the dataset by using the following link.  https://www.kaggle.com/PromptCloudHQ/amazon-reviews-unlocked-mobile-phones\n",
        "(You can also use different text data which you want)\n",
        "\n",
        "Apply the listed clustering methods to the dataset:\n",
        "\n",
        "K means, \n",
        "DBSCAN,\n",
        "Hierarchical clustering. \n",
        "\n",
        "You can refer to of the codes from  the follwing link below. \n",
        "https://www.kaggle.com/karthik3890/text-clustering \n",
        "    "
      ]
    },
    {
      "cell_type": "code",
      "metadata": {
        "colab": {
          "base_uri": "https://localhost:8080/"
        },
        "id": "dID6MS7eYF_v",
        "outputId": "b6da53e8-97b0-4964-e418-28f65523c2ef"
      },
      "source": [
        "\n",
        "import pandas as pd\n",
        "import gensim\n",
        "df=pd.read_csv(\"/content/Amazon_Unlocked_Mobile.csv\")\n",
        "import nltk\n",
        "nltk.download('punkt')\n",
        "from nltk.corpus import stopwords\n",
        "nltk.download('stopwords')\n",
        "from textblob import Word\n",
        "nltk.download('wordnet')\n",
        "from nltk.stem import PorterStemmer\n",
        "st = PorterStemmer()\n",
        "df = df[df['Reviews'].notnull()]\n",
        "stop = stopwords.words('english')\n",
        "df['after_punct_less'] = df['Reviews'].str.replace('[^\\w\\s].#','')\n",
        "df['after_rm_stopwords'] =df['after_punct_less'].apply(lambda x: \" \".join(x for x in x.split() if x not in stop))\n",
        "df['after_numerics']=df['after_rm_stopwords'].str.replace('[0-9]','')\n",
        "df['after_lowercasing'] =df['after_numerics'].apply(lambda x: \" \".join(x.lower() for x in x.split()))\n",
        "\n",
        "df['after_stemming']=df['after_lowercasing'].apply(lambda x: \" \".join([st.stem(word) for word in x.split()]))\n",
        "df['cleaned_text'] = df['after_stemming'].apply(lambda x: \" \".join([Word(word).lemmatize() for word in x.split()]))"
      ],
      "execution_count": 12,
      "outputs": [
        {
          "output_type": "stream",
          "text": [
            "[nltk_data] Downloading package punkt to /root/nltk_data...\n",
            "[nltk_data]   Unzipping tokenizers/punkt.zip.\n",
            "[nltk_data] Downloading package stopwords to /root/nltk_data...\n",
            "[nltk_data]   Package stopwords is already up-to-date!\n",
            "[nltk_data] Downloading package wordnet to /root/nltk_data...\n",
            "[nltk_data]   Package wordnet is already up-to-date!\n"
          ],
          "name": "stdout"
        }
      ]
    },
    {
      "cell_type": "code",
      "metadata": {
        "colab": {
          "base_uri": "https://localhost:8080/"
        },
        "id": "dTyOBLRKYTmo",
        "outputId": "4f2799d4-78a4-40c2-a2e4-e99132a05de1"
      },
      "source": [
        "df['cleaned_text'].head()"
      ],
      "execution_count": 13,
      "outputs": [
        {
          "output_type": "execute_result",
          "data": {
            "text/plain": [
              "0    i feel lucki found use (phone u & use hard all...\n",
              "1    nice phone, nice grade pantach revue. veri cle...\n",
              "2                                            veri plea\n",
              "3      it work good goe slow sometim good phone i love\n",
              "4    great phone replac lost phone. the thing volum...\n",
              "Name: cleaned_text, dtype: object"
            ]
          },
          "metadata": {
            "tags": []
          },
          "execution_count": 13
        }
      ]
    },
    {
      "cell_type": "code",
      "metadata": {
        "id": "MJVamptMZUIo"
      },
      "source": [
        "df_1=(df.sample(n=4000)).reset_index()"
      ],
      "execution_count": 14,
      "outputs": []
    },
    {
      "cell_type": "code",
      "metadata": {
        "colab": {
          "base_uri": "https://localhost:8080/"
        },
        "id": "sIJSr5hQZZ0n",
        "outputId": "ff1343de-5cd6-43a5-a8c4-5baf3c45cef6"
      },
      "source": [
        "\n",
        "from sklearn.feature_extraction.text import TfidfVectorizer\n",
        "tfidf_vect = TfidfVectorizer()\n",
        "tfidf = tfidf_vect.fit_transform(df_1['cleaned_text'].values)\n",
        "tfidf.shape"
      ],
      "execution_count": 15,
      "outputs": [
        {
          "output_type": "execute_result",
          "data": {
            "text/plain": [
              "(4000, 7158)"
            ]
          },
          "metadata": {
            "tags": []
          },
          "execution_count": 15
        }
      ]
    },
    {
      "cell_type": "code",
      "metadata": {
        "colab": {
          "base_uri": "https://localhost:8080/"
        },
        "id": "uXtdZ-dXZdxW",
        "outputId": "03b862af-da99-4081-bc8a-478c5dab8768"
      },
      "source": [
        "from sklearn.cluster import KMeans\n",
        "model_tf = KMeans(n_clusters = 5, n_jobs = -1,random_state=99)\n",
        "model_tf.fit(tfidf)"
      ],
      "execution_count": 16,
      "outputs": [
        {
          "output_type": "execute_result",
          "data": {
            "text/plain": [
              "KMeans(algorithm='auto', copy_x=True, init='k-means++', max_iter=300,\n",
              "       n_clusters=5, n_init=10, n_jobs=-1, precompute_distances='auto',\n",
              "       random_state=99, tol=0.0001, verbose=0)"
            ]
          },
          "metadata": {
            "tags": []
          },
          "execution_count": 16
        }
      ]
    },
    {
      "cell_type": "code",
      "metadata": {
        "id": "HD_0Ds9_Zi98"
      },
      "source": [
        "labels_tf = model_tf.labels_\n",
        "cluster_center_tf=model_tf.cluster_centers_"
      ],
      "execution_count": 17,
      "outputs": []
    },
    {
      "cell_type": "code",
      "metadata": {
        "colab": {
          "base_uri": "https://localhost:8080/",
          "height": 493
        },
        "id": "caMtqqcFZnoF",
        "outputId": "74b94874-955e-4e92-8a04-eb9ac2fc757b"
      },
      "source": [
        "terms1 = tfidf_vect.get_feature_names()\n",
        "terms1[1:5]\n",
        "df1 = df_1\n",
        "df1['Tfidf Clus Label'] = model_tf.labels_\n",
        "df1.head(5)"
      ],
      "execution_count": 18,
      "outputs": [
        {
          "output_type": "execute_result",
          "data": {
            "text/html": [
              "<div>\n",
              "<style scoped>\n",
              "    .dataframe tbody tr th:only-of-type {\n",
              "        vertical-align: middle;\n",
              "    }\n",
              "\n",
              "    .dataframe tbody tr th {\n",
              "        vertical-align: top;\n",
              "    }\n",
              "\n",
              "    .dataframe thead th {\n",
              "        text-align: right;\n",
              "    }\n",
              "</style>\n",
              "<table border=\"1\" class=\"dataframe\">\n",
              "  <thead>\n",
              "    <tr style=\"text-align: right;\">\n",
              "      <th></th>\n",
              "      <th>index</th>\n",
              "      <th>Product Name</th>\n",
              "      <th>Brand Name</th>\n",
              "      <th>Price</th>\n",
              "      <th>Rating</th>\n",
              "      <th>Reviews</th>\n",
              "      <th>Review Votes</th>\n",
              "      <th>after_punct_less</th>\n",
              "      <th>after_rm_stopwords</th>\n",
              "      <th>after_numerics</th>\n",
              "      <th>after_lowercasing</th>\n",
              "      <th>after_stemming</th>\n",
              "      <th>cleaned_text</th>\n",
              "      <th>Tfidf Clus Label</th>\n",
              "    </tr>\n",
              "  </thead>\n",
              "  <tbody>\n",
              "    <tr>\n",
              "      <th>0</th>\n",
              "      <td>56326</td>\n",
              "      <td>Apple iPhone 6 Plus 128GB Factory Unlocked GSM...</td>\n",
              "      <td>NaN</td>\n",
              "      <td>648.00</td>\n",
              "      <td>5</td>\n",
              "      <td>The large screen with the accesibilites option...</td>\n",
              "      <td>0.0</td>\n",
              "      <td>The large screen with the accesibilites option...</td>\n",
              "      <td>The large screen accesibilites options help mo...</td>\n",
              "      <td>The large screen accesibilites options help mo...</td>\n",
              "      <td>the large screen accesibilites options help mo...</td>\n",
              "      <td>the larg screen accesibilit option help mom re...</td>\n",
              "      <td>the larg screen accesibilit option help mom re...</td>\n",
              "      <td>1</td>\n",
              "    </tr>\n",
              "    <tr>\n",
              "      <th>1</th>\n",
              "      <td>304531</td>\n",
              "      <td>Samsung Convoy 2 SCH-U660 Military Standard Ru...</td>\n",
              "      <td>Samsung</td>\n",
              "      <td>99.99</td>\n",
              "      <td>5</td>\n",
              "      <td>My wife's 5th phone! Cheap and functional...al...</td>\n",
              "      <td>0.0</td>\n",
              "      <td>My wife's 5th phone! Cheap and functional...al...</td>\n",
              "      <td>My wife's 5th phone! Cheap functional...all re...</td>\n",
              "      <td>My wife's th phone! Cheap functional...all req...</td>\n",
              "      <td>my wife's th phone! cheap functional...all req...</td>\n",
              "      <td>my wife' th phone! cheap functional...al requi...</td>\n",
              "      <td>my wife' th phone! cheap functional...al requi...</td>\n",
              "      <td>1</td>\n",
              "    </tr>\n",
              "    <tr>\n",
              "      <th>2</th>\n",
              "      <td>34779</td>\n",
              "      <td>Apple iPhone 5c 8GB (Yellow) - Verizon Wireless</td>\n",
              "      <td>Apple</td>\n",
              "      <td>179.99</td>\n",
              "      <td>5</td>\n",
              "      <td>Very fast shipping. Product like description</td>\n",
              "      <td>1.0</td>\n",
              "      <td>Very fast shipping. Product like description</td>\n",
              "      <td>Very fast shipping. Product like description</td>\n",
              "      <td>Very fast shipping. Product like description</td>\n",
              "      <td>very fast shipping. product like description</td>\n",
              "      <td>veri fast shipping. product like descript</td>\n",
              "      <td>veri fast shipping. product like descript</td>\n",
              "      <td>1</td>\n",
              "    </tr>\n",
              "    <tr>\n",
              "      <th>3</th>\n",
              "      <td>146649</td>\n",
              "      <td>BLU Studio C 5+5 LTE Smartphone - GSM Unlocked...</td>\n",
              "      <td>BLU</td>\n",
              "      <td>99.00</td>\n",
              "      <td>5</td>\n",
              "      <td>All we have acquired smartphone BLU brand, we ...</td>\n",
              "      <td>0.0</td>\n",
              "      <td>All we have acquired smartphone BLU brand, we ...</td>\n",
              "      <td>All acquired smartphone BLU brand, know excell...</td>\n",
              "      <td>All acquired smartphone BLU brand, know excell...</td>\n",
              "      <td>all acquired smartphone blu brand, know excell...</td>\n",
              "      <td>all acquir smartphon blu brand, know excel dev...</td>\n",
              "      <td>all acquir smartphon blu brand, know excel dev...</td>\n",
              "      <td>1</td>\n",
              "    </tr>\n",
              "    <tr>\n",
              "      <th>4</th>\n",
              "      <td>40895</td>\n",
              "      <td>Apple iPhone 5s 16GB (Space Gray) - Verizon Wi...</td>\n",
              "      <td>Apple</td>\n",
              "      <td>149.99</td>\n",
              "      <td>5</td>\n",
              "      <td>Great condition! Arrived with charger and no m...</td>\n",
              "      <td>0.0</td>\n",
              "      <td>Great condition! Arrived with charger and no m...</td>\n",
              "      <td>Great condition! Arrived charger marks scratch...</td>\n",
              "      <td>Great condition! Arrived charger marks scratch...</td>\n",
              "      <td>great condition! arrived charger marks scratch...</td>\n",
              "      <td>great condition! arriv charger mark scratches....</td>\n",
              "      <td>great condition! arriv charger mark scratches....</td>\n",
              "      <td>1</td>\n",
              "    </tr>\n",
              "  </tbody>\n",
              "</table>\n",
              "</div>"
            ],
            "text/plain": [
              "    index  ... Tfidf Clus Label\n",
              "0   56326  ...                1\n",
              "1  304531  ...                1\n",
              "2   34779  ...                1\n",
              "3  146649  ...                1\n",
              "4   40895  ...                1\n",
              "\n",
              "[5 rows x 14 columns]"
            ]
          },
          "metadata": {
            "tags": []
          },
          "execution_count": 18
        }
      ]
    },
    {
      "cell_type": "code",
      "metadata": {
        "colab": {
          "base_uri": "https://localhost:8080/"
        },
        "id": "WwN6egbxZxmA",
        "outputId": "eda3f080-2fc2-445c-c66c-282aff5a828e"
      },
      "source": [
        "df1.groupby(['Tfidf Clus Label'])['cleaned_text'].count()"
      ],
      "execution_count": 19,
      "outputs": [
        {
          "output_type": "execute_result",
          "data": {
            "text/plain": [
              "Tfidf Clus Label\n",
              "0     124\n",
              "1    3473\n",
              "2     189\n",
              "3      55\n",
              "4     159\n",
              "Name: cleaned_text, dtype: int64"
            ]
          },
          "metadata": {
            "tags": []
          },
          "execution_count": 19
        }
      ]
    },
    {
      "cell_type": "code",
      "metadata": {
        "colab": {
          "base_uri": "https://localhost:8080/"
        },
        "id": "29O9PLWXZ0Ou",
        "outputId": "0efc880e-1a36-4427-a555-f8c773039254"
      },
      "source": [
        "print(\"Top terms per cluster:\")\n",
        "order_centroids = model_tf.cluster_centers_.argsort()[:, ::-1]\n",
        "for i in range(1,5):\n",
        "    print(\"Cluster %d:\" % i, end='')\n",
        "    for ind in order_centroids[i, :5]:\n",
        "        print(' %s' % terms1[ind], end='')\n",
        "        print()"
      ],
      "execution_count": 20,
      "outputs": [
        {
          "output_type": "stream",
          "text": [
            "Top terms per cluster:\n",
            "Cluster 1: phone\n",
            " great\n",
            " it\n",
            " work\n",
            " the\n",
            "Cluster 2: good\n",
            " veri\n",
            " phone\n",
            " product\n",
            " it\n",
            "Cluster 3: excelent\n",
            " producto\n",
            " telefono\n",
            " recomiendo\n",
            " lo\n",
            "Cluster 4: love\n",
            " it\n",
            " phone\n",
            " great\n",
            " wife\n"
          ],
          "name": "stdout"
        }
      ]
    },
    {
      "cell_type": "code",
      "metadata": {
        "id": "BbcfAuRGZ9gW"
      },
      "source": [
        "from sklearn.cluster import DBSCAN\n",
        "import numpy as np\n",
        "import matplotlib.pyplot as plt\n",
        "import gensim"
      ],
      "execution_count": 21,
      "outputs": []
    },
    {
      "cell_type": "code",
      "metadata": {
        "id": "F8nMWNZraCza"
      },
      "source": [
        "i=0\n",
        "list_of_sent=[]\n",
        "for sent in df_1['cleaned_text'].values:\n",
        "    list_of_sent.append(sent.split())"
      ],
      "execution_count": 22,
      "outputs": []
    },
    {
      "cell_type": "code",
      "metadata": {
        "colab": {
          "base_uri": "https://localhost:8080/"
        },
        "id": "0lAv6F0QaIuo",
        "outputId": "e8cfd791-b7c9-4d29-844c-0aaab29b21d7"
      },
      "source": [
        "w2v_model=gensim.models.Word2Vec(list_of_sent,size=100, workers=4)\n",
        "import numpy as np\n",
        "sent_vectors = []; # the avg-w2v for each sentence/review is stored in this train\n",
        "for sent in list_of_sent: # for each review/sentence\n",
        "    sent_vec = np.zeros(100) # as word vectors are of zero length\n",
        "    cnt_words =0; # num of words with a valid vector in the sentence/review\n",
        "    for word in sent: # for each word in a review/sentence\n",
        "        try:\n",
        "            vec = w2v_model.wv[word]\n",
        "            sent_vec += vec\n",
        "            cnt_words += 1\n",
        "        except:\n",
        "            pass\n",
        "    sent_vec /= cnt_words\n",
        "    sent_vectors.append(sent_vec)\n",
        "sent_vectors = np.array(sent_vectors)\n",
        "sent_vectors = np.nan_to_num(sent_vectors)\n",
        "sent_vectors.shape"
      ],
      "execution_count": 23,
      "outputs": [
        {
          "output_type": "stream",
          "text": [
            "/usr/local/lib/python3.6/dist-packages/ipykernel_launcher.py:14: RuntimeWarning: invalid value encountered in true_divide\n",
            "  \n"
          ],
          "name": "stderr"
        },
        {
          "output_type": "execute_result",
          "data": {
            "text/plain": [
              "(4000, 100)"
            ]
          },
          "metadata": {
            "tags": []
          },
          "execution_count": 23
        }
      ]
    },
    {
      "cell_type": "code",
      "metadata": {
        "id": "jP44DKxTaSc1"
      },
      "source": [
        "# Computing 200th Nearest neighbour distance\n",
        "minPts = 2 * 100\n",
        "# Lower bound function copied from -> https://gist.github.com/m00nlight/0f9306b4d4e61ba0195f\n",
        "def lower_bound(nums, target): # This function return the number in the array just greater than or equal to itself.\n",
        "    l, r = 0, len(nums) - 1\n",
        "    while l <= r: # Binary searching.\n",
        "        mid = int(l + (r - l) / 2)\n",
        "        if nums[mid] >= target:\n",
        "            r = mid - 1\n",
        "        else:\n",
        "            l = mid + 1\n",
        "    return l\n",
        "\n",
        "def compute200thnearestneighbour(x, data): # Returns the distance of 200th nearest neighbour.\n",
        "    dists = []\n",
        "    for val in data:\n",
        "        dist = np.sum((x - val) **2 ) # computing distances.\n",
        "        if(len(dists) == 200 and dists[199] > dist): # If distance is larger than current largest distance found.\n",
        "            l = int(lower_bound(dists, dist)) # Using the lower bound function to get the right position.\n",
        "            if l < 200 and l >= 0 and dists[l] > dist:\n",
        "                dists[l] = dist\n",
        "        else:\n",
        "            dists.append(dist)\n",
        "            dists.sort()\n",
        "    \n",
        "    return dists[199]"
      ],
      "execution_count": 24,
      "outputs": []
    },
    {
      "cell_type": "code",
      "metadata": {
        "id": "Q_Uz6wDdaY9W"
      },
      "source": [
        "twohundrethneigh = []\n",
        "for val in sent_vectors[:1500]:\n",
        "    twohundrethneigh.append( compute200thnearestneighbour(val, sent_vectors[:1500]) )\n",
        "twohundrethneigh.sort()"
      ],
      "execution_count": 25,
      "outputs": []
    },
    {
      "cell_type": "code",
      "metadata": {
        "id": "wpSgRY76aamN"
      },
      "source": [
        "mob_vectors.shape"
      ],
      "execution_count": null,
      "outputs": []
    },
    {
      "cell_type": "code",
      "metadata": {
        "colab": {
          "base_uri": "https://localhost:8080/",
          "height": 350
        },
        "id": "dVg7vFRwavUG",
        "outputId": "9771e89a-956b-462e-ae15-5c53ab699212"
      },
      "source": [
        "plt.figure(figsize=(15,5))\n",
        "plt.title(\"Elbow Method for Finding the right Eps hyperparameter\")\n",
        "plt.plot([x for x in range(len(twohundrethneigh))], twohundrethneigh)\n",
        "plt.xlabel(\"Number of points\")\n",
        "plt.ylabel(\"Distance of 200th Nearest Neighbour\")\n",
        "plt.show()"
      ],
      "execution_count": 26,
      "outputs": [
        {
          "output_type": "display_data",
          "data": {
            "image/png": "[encoded data removed]",
            "text/plain": [
              "<Figure size 1080x360 with 1 Axes>"
            ]
          },
          "metadata": {
            "tags": [],
            "needs_background": "light"
          }
        }
      ]
    },
    {
      "cell_type": "code",
      "metadata": {
        "colab": {
          "base_uri": "https://localhost:8080/",
          "height": 264
        },
        "id": "Ff3UtRD2bCG5",
        "outputId": "d4b1c39d-716c-43fb-c740-58d5539376b0"
      },
      "source": [
        "model = DBSCAN(eps = 8, min_samples = minPts, n_jobs=-2)\n",
        "model.fit(sent_vectors)\n",
        "df_1['AVG-W2V Clus Label'] = model.labels_\n",
        "df_1.head(2)\n"
      ],
      "execution_count": 28,
      "outputs": [
        {
          "output_type": "execute_result",
          "data": {
            "text/html": [
              "<div>\n",
              "<style scoped>\n",
              "    .dataframe tbody tr th:only-of-type {\n",
              "        vertical-align: middle;\n",
              "    }\n",
              "\n",
              "    .dataframe tbody tr th {\n",
              "        vertical-align: top;\n",
              "    }\n",
              "\n",
              "    .dataframe thead th {\n",
              "        text-align: right;\n",
              "    }\n",
              "</style>\n",
              "<table border=\"1\" class=\"dataframe\">\n",
              "  <thead>\n",
              "    <tr style=\"text-align: right;\">\n",
              "      <th></th>\n",
              "      <th>index</th>\n",
              "      <th>Product Name</th>\n",
              "      <th>Brand Name</th>\n",
              "      <th>Price</th>\n",
              "      <th>Rating</th>\n",
              "      <th>Reviews</th>\n",
              "      <th>Review Votes</th>\n",
              "      <th>after_punct_less</th>\n",
              "      <th>after_rm_stopwords</th>\n",
              "      <th>after_numerics</th>\n",
              "      <th>after_lowercasing</th>\n",
              "      <th>after_stemming</th>\n",
              "      <th>cleaned_text</th>\n",
              "      <th>Tfidf Clus Label</th>\n",
              "      <th>AVG-W2V Clus Label</th>\n",
              "    </tr>\n",
              "  </thead>\n",
              "  <tbody>\n",
              "    <tr>\n",
              "      <th>0</th>\n",
              "      <td>56326</td>\n",
              "      <td>Apple iPhone 6 Plus 128GB Factory Unlocked GSM...</td>\n",
              "      <td>NaN</td>\n",
              "      <td>648.00</td>\n",
              "      <td>5</td>\n",
              "      <td>The large screen with the accesibilites option...</td>\n",
              "      <td>0.0</td>\n",
              "      <td>The large screen with the accesibilites option...</td>\n",
              "      <td>The large screen accesibilites options help mo...</td>\n",
              "      <td>The large screen accesibilites options help mo...</td>\n",
              "      <td>the large screen accesibilites options help mo...</td>\n",
              "      <td>the larg screen accesibilit option help mom re...</td>\n",
              "      <td>the larg screen accesibilit option help mom re...</td>\n",
              "      <td>1</td>\n",
              "      <td>0</td>\n",
              "    </tr>\n",
              "    <tr>\n",
              "      <th>1</th>\n",
              "      <td>304531</td>\n",
              "      <td>Samsung Convoy 2 SCH-U660 Military Standard Ru...</td>\n",
              "      <td>Samsung</td>\n",
              "      <td>99.99</td>\n",
              "      <td>5</td>\n",
              "      <td>My wife's 5th phone! Cheap and functional...al...</td>\n",
              "      <td>0.0</td>\n",
              "      <td>My wife's 5th phone! Cheap and functional...al...</td>\n",
              "      <td>My wife's 5th phone! Cheap functional...all re...</td>\n",
              "      <td>My wife's th phone! Cheap functional...all req...</td>\n",
              "      <td>my wife's th phone! cheap functional...all req...</td>\n",
              "      <td>my wife' th phone! cheap functional...al requi...</td>\n",
              "      <td>my wife' th phone! cheap functional...al requi...</td>\n",
              "      <td>1</td>\n",
              "      <td>0</td>\n",
              "    </tr>\n",
              "  </tbody>\n",
              "</table>\n",
              "</div>"
            ],
            "text/plain": [
              "    index  ... AVG-W2V Clus Label\n",
              "0   56326  ...                  0\n",
              "1  304531  ...                  0\n",
              "\n",
              "[2 rows x 15 columns]"
            ]
          },
          "metadata": {
            "tags": []
          },
          "execution_count": 28
        }
      ]
    },
    {
      "cell_type": "code",
      "metadata": {
        "colab": {
          "base_uri": "https://localhost:8080/",
          "height": 285
        },
        "id": "rhmWJi4ebOki",
        "outputId": "263b62b7-1ace-476e-dd72-0ec2fd2670ad"
      },
      "source": [
        "import scipy\n",
        "from scipy.cluster import hierarchy\n",
        "dendro=hierarchy.dendrogram(hierarchy.linkage(sent_vectors,method='ward'))\n",
        "plt.axhline(y=20)"
      ],
      "execution_count": 30,
      "outputs": [
        {
          "output_type": "execute_result",
          "data": {
            "text/plain": [
              "<matplotlib.lines.Line2D at 0x7f41566610f0>"
            ]
          },
          "metadata": {
            "tags": []
          },
          "execution_count": 30
        },
        {
          "output_type": "display_data",
          "data": {
            "image/png": "[encoded data removed]",
            "text/plain": [
              "<Figure size 432x288 with 1 Axes>"
            ]
          },
          "metadata": {
            "tags": [],
            "needs_background": "light"
          }
        }
      ]
    },
    {
      "cell_type": "code",
      "metadata": {
        "id": "dnGWphIAbftC"
      },
      "source": [
        "from sklearn.cluster import AgglomerativeClustering\n",
        "\n",
        "cluster = AgglomerativeClustering(n_clusters=7, affinity='euclidean', linkage='ward')  \n",
        "Agg=cluster.fit_predict(sent_vectors)"
      ],
      "execution_count": 31,
      "outputs": []
    },
    {
      "cell_type": "code",
      "metadata": {
        "colab": {
          "base_uri": "https://localhost:8080/"
        },
        "id": "1OryLmG8cmHI",
        "outputId": "f0fe4934-9682-4471-8b38-d70669e9fb58"
      },
      "source": [
        "df_1['AVG-W2V Clus Label'] = cluster.labels_\n",
        "df_1.head(2)\n",
        "df_1.groupby(['AVG-W2V Clus Label'])['cleaned_text'].count()"
      ],
      "execution_count": 32,
      "outputs": [
        {
          "output_type": "execute_result",
          "data": {
            "text/plain": [
              "AVG-W2V Clus Label\n",
              "0    1596\n",
              "1    1078\n",
              "2     101\n",
              "3     187\n",
              "4     666\n",
              "5      94\n",
              "6     278\n",
              "Name: cleaned_text, dtype: int64"
            ]
          },
          "metadata": {
            "tags": []
          },
          "execution_count": 32
        }
      ]
    },
    {
      "cell_type": "code",
      "metadata": {
        "colab": {
          "base_uri": "https://localhost:8080/"
        },
        "id": "XrCON9xocqub",
        "outputId": "f49f547a-3df0-4bbc-ee35-438e647ac3a8"
      },
      "source": [
        "for i in range(5):\n",
        "    print(\"2 reviews of assigned to cluster \", i)\n",
        "    print(\"-\" * 70)\n",
        "    print(df_1.iloc[df_1.groupby(['AVG-W2V Clus Label']).groups[i][0]]['cleaned_text'])\n",
        "    print('\\n')\n",
        "    print(df_1.iloc[df_1.groupby(['AVG-W2V Clus Label']).groups[i][1]]['cleaned_text'])\n",
        "    print('\\n')\n",
        "    print(\"_\" * 70)"
      ],
      "execution_count": 33,
      "outputs": [
        {
          "output_type": "stream",
          "text": [
            "2 reviews of assigned to cluster  0\n",
            "----------------------------------------------------------------------\n",
            "veri fast shipping. product like descript\n",
            "\n",
            "\n",
            "soy de venezuela el paquet llego vació. la empresa que contrat repuso el dinero en bolivares, así que perdí mi cupo de dolar el tiempo.*pendient cuando compren un articulo por el que tengan que pagar impuestos, pued que se lo roben en el trayecto.\n",
            "\n",
            "\n",
            "______________________________________________________________________\n",
            "2 reviews of assigned to cluster  1\n",
            "----------------------------------------------------------------------\n",
            "the larg screen accesibilit option help mom read text phone without glass without compromis much screen real estat\n",
            "\n",
            "\n",
            "my boyfriend got phone summer, actual like much better former iphone. it come earbuds, charg cable, use charg adaptor accommod differ charg ports. i person think big, i small hand haha. overall, reliabl phone work realli well.\n",
            "\n",
            "\n",
            "______________________________________________________________________\n",
            "2 reviews of assigned to cluster  2\n",
            "----------------------------------------------------------------------\n",
            "excelent\n",
            "\n",
            "\n",
            "ok.\n",
            "\n",
            "\n",
            "______________________________________________________________________\n",
            "2 reviews of assigned to cluster  3\n",
            "----------------------------------------------------------------------\n",
            "my wife' th phone! cheap functional...al required!\n",
            "\n",
            "\n",
            "my microphon water damag\n",
            "\n",
            "\n",
            "______________________________________________________________________\n",
            "2 reviews of assigned to cluster  4\n",
            "----------------------------------------------------------------------\n",
            "excel i like\n",
            "\n",
            "\n",
            "good phone\n",
            "\n",
            "\n",
            "______________________________________________________________________\n"
          ],
          "name": "stdout"
        }
      ]
    },
    {
      "cell_type": "markdown",
      "metadata": {
        "id": "58ryV_2hcyC_"
      },
      "source": [
        "k-means clustering is a method of vector quantization, originally from signal processing, that aims to partition n observations into k clusters in which each observation belongs to the cluster with the nearest mean, serving as a prototype of the cluster. we can see from the result that k-means are easy to understand than DBSCAN. The DBSCAN can control even missing values in the data set. Hierarchial clustering have lot of noise. We can say k-means are best and optimal."
      ]
    }
  ]
}